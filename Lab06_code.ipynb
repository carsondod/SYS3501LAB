{
  "nbformat": 4,
  "nbformat_minor": 0,
  "metadata": {
    "colab": {
      "provenance": []
    },
    "kernelspec": {
      "name": "python3",
      "display_name": "Python 3"
    },
    "language_info": {
      "name": "python"
    }
  },
  "cells": [
    {
      "cell_type": "markdown",
      "source": [
        "#Lab 06 Code\n",
        "\n",
        "Carson Dod xbh4ya"
      ],
      "metadata": {
        "id": "JKRE3lXLtqYU"
      }
    },
    {
      "cell_type": "code",
      "execution_count": 1,
      "metadata": {
        "colab": {
          "base_uri": "https://localhost:8080/"
        },
        "id": "8qJye4rsr4ib",
        "outputId": "42424334-35e7-49ef-8fbc-c38dd9f0db55"
      },
      "outputs": [
        {
          "output_type": "stream",
          "name": "stdout",
          "text": [
            "Mounted at /content/drive\n",
            "   IYR  IMO RAILROAD     INCDTNO  IYR2  IMO2  RR2 INCDTNO2  IYR3  IMO3  ...  \\\n",
            "0   21   11     SERA  SERA202112   NaN   NaN  NaN      NaN    21    11  ...   \n",
            "1   21    9       UP   0921NC034   NaN   NaN  NaN      NaN    21     9  ...   \n",
            "2   21    9      ATK      168291   NaN   NaN  NaN      NaN    21     9  ...   \n",
            "3   21    3       UP   0321GP007   NaN   NaN  NaN      NaN    21     3  ...   \n",
            "4   21   10       IC     1086086   NaN   NaN  NaN      NaN    21    10  ...   \n",
            "\n",
            "  NARR15 RCL   Latitude    Longitud  SIGNAL  MOPERA  ADJUNCT1  ADJUNCT2  \\\n",
            "0    NaN   0  37.865673 -120.472446     2.0     2.0         P       NaN   \n",
            "1    NaN   0  37.813846 -122.302532     2.0     5.0       NaN       NaN   \n",
            "2    NaN   0  37.427196 -121.977542     1.0     1.0         Q       NaN   \n",
            "3    NaN   0  39.798312 -104.998511     2.0     5.0         K       NaN   \n",
            "4    NaN   0  41.832883  -87.732217     2.0     5.0       NaN       NaN   \n",
            "\n",
            "   ADJUNCT3             SUBDIV  \n",
            "0       NaN             SONORA  \n",
            "1       NaN          NILES SUB  \n",
            "2       NaN              COAST  \n",
            "3       NaN  MOFFAT TUNNEL SUB  \n",
            "4       NaN           FREEPORT  \n",
            "\n",
            "[5 rows x 145 columns]\n"
          ]
        }
      ],
      "source": [
        "#Initial code here copied from final and labs to import file to this particular file\n",
        "from google.colab import drive\n",
        "import pandas as pd\n",
        "import numpy as np\n",
        "import ast\n",
        "from collections import Counter\n",
        "import matplotlib.pyplot as plt\n",
        "import seaborn as sns\n",
        "\n",
        "\n",
        "drive.mount('/content/drive', force_remount=True)\n",
        "file_path = '/content/drive/My Drive/2nd Year/Colab Notebooks/RailAccidents21.csv'\n",
        "\n",
        "df = pd.read_csv(file_path)\n",
        "print(df.head())"
      ]
    },
    {
      "cell_type": "code",
      "source": [
        "#13\n",
        "mean_accdmg = round(df['ACCDMG'].mean(), 2)\n",
        "mean_accdmg"
      ],
      "metadata": {
        "colab": {
          "base_uri": "https://localhost:8080/"
        },
        "id": "M3scBeuNul3T",
        "outputId": "48848214-521f-43cf-bfb7-09c0a2b2d47b"
      },
      "execution_count": 2,
      "outputs": [
        {
          "output_type": "execute_result",
          "data": {
            "text/plain": [
              "167742.76"
            ]
          },
          "metadata": {},
          "execution_count": 2
        }
      ]
    },
    {
      "cell_type": "code",
      "source": [
        "#14\n",
        "max_eqpdmg = df['EQPDMG'].max()\n",
        "max_eqpdmg"
      ],
      "metadata": {
        "colab": {
          "base_uri": "https://localhost:8080/"
        },
        "id": "HMFa76hruniW",
        "outputId": "8dbee144-b66e-424c-cb30-562682045269"
      },
      "execution_count": 3,
      "outputs": [
        {
          "output_type": "execute_result",
          "data": {
            "text/plain": [
              "21947116"
            ]
          },
          "metadata": {},
          "execution_count": 3
        }
      ]
    },
    {
      "cell_type": "code",
      "source": [
        "#15:\n",
        "highest_eqpdmg_month = df.loc[df['EQPDMG'].idxmax(), 'IMO']\n",
        "\n",
        "highest_eqpdmg_month\n",
        "#9 - september"
      ],
      "metadata": {
        "colab": {
          "base_uri": "https://localhost:8080/"
        },
        "id": "99RFu4AivR6o",
        "outputId": "99079b47-4feb-468f-b7fc-c642e165d649"
      },
      "execution_count": 5,
      "outputs": [
        {
          "output_type": "execute_result",
          "data": {
            "text/plain": [
              "9"
            ]
          },
          "metadata": {},
          "execution_count": 5
        }
      ]
    },
    {
      "cell_type": "code",
      "source": [
        "#16:\n",
        "total_passkld = df['PASSKLD'].sum()\n",
        "total_passkld"
      ],
      "metadata": {
        "colab": {
          "base_uri": "https://localhost:8080/"
        },
        "id": "nQ8OUnNbvcTp",
        "outputId": "1cfb2508-9249-4413-c7ff-d2ee4bb1e0c9"
      },
      "execution_count": 6,
      "outputs": [
        {
          "output_type": "execute_result",
          "data": {
            "text/plain": [
              "3"
            ]
          },
          "metadata": {},
          "execution_count": 6
        }
      ]
    },
    {
      "cell_type": "code",
      "source": [
        "#17:\n",
        "total_rrempkld = df['RREMPKLD'].sum()\n",
        "total_rrempkld"
      ],
      "metadata": {
        "colab": {
          "base_uri": "https://localhost:8080/"
        },
        "id": "h284id8Nvwv_",
        "outputId": "e310e4b1-7179-4816-de48-db0cef3d8e09"
      },
      "execution_count": 7,
      "outputs": [
        {
          "output_type": "execute_result",
          "data": {
            "text/plain": [
              "0"
            ]
          },
          "metadata": {},
          "execution_count": 7
        }
      ]
    },
    {
      "cell_type": "code",
      "source": [
        "#18:\n",
        "columns_to_check = ['IMO', 'SUBDIV', 'INCDTNO', 'RAILROAD']\n",
        "no_missing_values = [col for col in columns_to_check if df[col].isnull().sum() == 0]\n",
        "no_missing_values"
      ],
      "metadata": {
        "colab": {
          "base_uri": "https://localhost:8080/"
        },
        "id": "8qPp9Ds_wHcs",
        "outputId": "e789cfc2-ee0f-43ac-de8a-d8a04e0386b0"
      },
      "execution_count": 8,
      "outputs": [
        {
          "output_type": "execute_result",
          "data": {
            "text/plain": [
              "['IMO', 'INCDTNO', 'RAILROAD']"
            ]
          },
          "metadata": {},
          "execution_count": 8
        }
      ]
    },
    {
      "cell_type": "code",
      "source": [
        "#19:\n",
        "iyr2_null_values = df['IYR2'].isnull().sum()\n",
        "print(iyr2_null_values)\n",
        "\n",
        "iyr_null_values = df['IYR'].isnull().sum()\n",
        "print(iyr_null_values)\n",
        "\n",
        "correlation_accedmg_eqpdmg = df[['ACCDMG', 'EQPDMG']].corr().iloc[0, 1]\n",
        "print(correlation_accedmg_eqpdmg)\n",
        "\n",
        "\n",
        "trnspd_skewness = df['TRNSPD'].skew()\n",
        "print(trnspd_skewness < 0)\n",
        "\n"
      ],
      "metadata": {
        "colab": {
          "base_uri": "https://localhost:8080/"
        },
        "id": "EeEiLaO5wyau",
        "outputId": "20a7ff0f-086c-4460-c321-d5d7e819e18c"
      },
      "execution_count": 17,
      "outputs": [
        {
          "output_type": "stream",
          "name": "stdout",
          "text": [
            "2062\n",
            "0\n",
            "0.7527720703944135\n",
            "False\n"
          ]
        }
      ]
    },
    {
      "cell_type": "code",
      "source": [
        "#20:\n",
        "total_words_narr1 = df['NARR1'].dropna().str.split().str.len().sum()\n",
        "total_words_narr1"
      ],
      "metadata": {
        "colab": {
          "base_uri": "https://localhost:8080/"
        },
        "id": "r7IgXMacxl6z",
        "outputId": "5e9f3673-d61a-45ff-f09d-02cf809b5c08"
      },
      "execution_count": 21,
      "outputs": [
        {
          "output_type": "execute_result",
          "data": {
            "text/plain": [
              "38931"
            ]
          },
          "metadata": {},
          "execution_count": 21
        }
      ]
    },
    {
      "cell_type": "code",
      "source": [
        "#21:\n",
        "first_10_narratives = df['NARR1'].head(10).dropna()\n",
        "total_capital_letters = first_10_narratives.apply(lambda x: sum(1 for char in x if char.isupper())).sum()\n",
        "total_capital_letters\n"
      ],
      "metadata": {
        "colab": {
          "base_uri": "https://localhost:8080/"
        },
        "id": "XN7OnKfOx9PB",
        "outputId": "2e513a3d-6093-448a-e2e0-5da5089d00a4"
      },
      "execution_count": 22,
      "outputs": [
        {
          "output_type": "execute_result",
          "data": {
            "text/plain": [
              "650"
            ]
          },
          "metadata": {},
          "execution_count": 22
        }
      ]
    },
    {
      "cell_type": "code",
      "source": [
        "#22:\n",
        "import string\n",
        "from collections import Counter\n",
        "from nltk.corpus import stopwords\n",
        "import re\n",
        "import pandas as pd\n",
        "import nltk\n",
        "nltk.download('stopwords')\n",
        "\n",
        "def clean_text_simple(text):\n",
        "    text = text.lower()\n",
        "    tokens = re.findall(r'\\b\\w+\\b', text)\n",
        "    stop_words = {\n",
        "        \"a\", \"an\", \"the\", \"and\", \"or\", \"not\", \"is\", \"are\", \"was\", \"were\",\n",
        "        \"in\", \"on\", \"at\", \"of\", \"to\", \"from\", \"with\", \"by\", \"for\", \"as\"\n",
        "    }\n",
        "    tokens = [word for word in tokens if word not in stop_words]\n",
        "    return tokens\n",
        "\n",
        "df['cleaned_narratives'] = df['NARR1'].dropna().apply(lambda x: clean_text_simple(str(x)))\n",
        "\n",
        "all_words = [word for sublist in df['cleaned_narratives'] for word in sublist]\n",
        "word_freq = Counter(all_words)\n",
        "most_common_words = word_freq.most_common(5)\n",
        "\n",
        "for word, freq in most_common_words:\n",
        "    print(word, freq)"
      ],
      "metadata": {
        "colab": {
          "base_uri": "https://localhost:8080/"
        },
        "id": "p15zg4-Zzb6h",
        "outputId": "7f3af75b-44ac-4ba9-9e64-5e769179107c"
      },
      "execution_count": 45,
      "outputs": [
        {
          "output_type": "stream",
          "name": "stdout",
          "text": [
            "track 937\n",
            "cars 746\n",
            "train 646\n",
            "derailed 566\n",
            "while 484\n"
          ]
        },
        {
          "output_type": "stream",
          "name": "stderr",
          "text": [
            "[nltk_data] Downloading package stopwords to /root/nltk_data...\n",
            "[nltk_data]   Package stopwords is already up-to-date!\n"
          ]
        }
      ]
    },
    {
      "cell_type": "code",
      "source": [
        "#23:\n",
        "derailment_count = df[df['TYPE'] == 1].shape[0]\n",
        "derailment_count\n"
      ],
      "metadata": {
        "colab": {
          "base_uri": "https://localhost:8080/"
        },
        "id": "gSW7vI4g0ZtS",
        "outputId": "7bf44330-ee64-46d5-9052-7f30b8ad6d50"
      },
      "execution_count": 28,
      "outputs": [
        {
          "output_type": "execute_result",
          "data": {
            "text/plain": [
              "1220"
            ]
          },
          "metadata": {},
          "execution_count": 28
        }
      ]
    },
    {
      "cell_type": "code",
      "source": [
        "#24\n",
        "rainy_weather_count = df[df['WEATHER'] == 3].shape[0]\n",
        "rainy_weather_count\n"
      ],
      "metadata": {
        "colab": {
          "base_uri": "https://localhost:8080/"
        },
        "id": "k1OWyvq31EzH",
        "outputId": "1dc06eb9-b08a-4067-913e-3e1e92d5c426"
      },
      "execution_count": 29,
      "outputs": [
        {
          "output_type": "execute_result",
          "data": {
            "text/plain": [
              "175"
            ]
          },
          "metadata": {},
          "execution_count": 29
        }
      ]
    },
    {
      "cell_type": "code",
      "source": [
        "#25:\n",
        "highest_trnspd_rainy = df[df['WEATHER'] == 3]['TRNSPD'].max()\n",
        "highest_trnspd_rainy\n"
      ],
      "metadata": {
        "colab": {
          "base_uri": "https://localhost:8080/"
        },
        "id": "9BtrhJv01ICi",
        "outputId": "8796b391-fd4e-41c7-e8c4-4d2e4aad6e56"
      },
      "execution_count": 30,
      "outputs": [
        {
          "output_type": "execute_result",
          "data": {
            "text/plain": [
              "109"
            ]
          },
          "metadata": {},
          "execution_count": 30
        }
      ]
    },
    {
      "cell_type": "code",
      "source": [
        "#26:\n",
        "columns = ['WEATHER', 'VISIBLTY', 'TRNSPD', 'TONS', 'TEMP', 'TYPE']\n",
        "total_nulls = df[columns].isnull().sum().sum()\n",
        "total_nulls\n"
      ],
      "metadata": {
        "colab": {
          "base_uri": "https://localhost:8080/"
        },
        "id": "GqWA3_G71j2l",
        "outputId": "304a91ce-2a70-4198-ab82-56c2ed6c447a"
      },
      "execution_count": 31,
      "outputs": [
        {
          "output_type": "execute_result",
          "data": {
            "text/plain": [
              "2"
            ]
          },
          "metadata": {},
          "execution_count": 31
        }
      ]
    },
    {
      "cell_type": "code",
      "source": [
        "#27:\n",
        "from sklearn.model_selection import train_test_split\n",
        "from sklearn.neighbors import KNeighborsClassifier\n",
        "from sklearn.metrics import accuracy_score\n",
        "\n",
        "columns = ['WEATHER', 'VISIBLTY', 'TRNSPD', 'TONS', 'TEMP']\n",
        "X = df[columns].dropna()\n",
        "y = (df.loc[X.index, 'TYPE'] == 1).astype(int)\n",
        "\n",
        "X_train, X_test = X.iloc[:2000], X.iloc[2000:]\n",
        "y_train, y_test = y.iloc[:2000], y.iloc[2000:]\n",
        "\n",
        "model = KNeighborsClassifier(n_neighbors=3)\n",
        "model.fit(X_train, y_train)\n",
        "\n",
        "y_pred = model.predict(X_test)\n",
        "accuracy = accuracy_score(y_test, y_pred) * 100\n",
        "\n",
        "print(accuracy)\n"
      ],
      "metadata": {
        "colab": {
          "base_uri": "https://localhost:8080/"
        },
        "id": "OWwoM58q1rNJ",
        "outputId": "fb4b8f4c-a6fe-47f6-aa37-a6a14ced6b45"
      },
      "execution_count": 32,
      "outputs": [
        {
          "output_type": "stream",
          "name": "stdout",
          "text": [
            "58.80281690140845\n"
          ]
        }
      ]
    },
    {
      "cell_type": "code",
      "source": [
        "#28:\n",
        "from sklearn.ensemble import RandomForestClassifier\n",
        "from sklearn.metrics import precision_score\n",
        "\n",
        "columns = ['WEATHER', 'VISIBLTY', 'TRNSPD', 'TONS', 'TEMP']\n",
        "X = df[columns].dropna()\n",
        "y = (df.loc[X.index, 'TYPE'] == 1).astype(int)\n",
        "\n",
        "X_train, X_test = X.iloc[:2000], X.iloc[2000:]\n",
        "y_train, y_test = y.iloc[:2000], y.iloc[2000:]\n",
        "\n",
        "rf_model = RandomForestClassifier(max_depth=3, random_state=0)\n",
        "rf_model.fit(X_train, y_train)\n",
        "\n",
        "y_pred = rf_model.predict(X_test)\n",
        "\n",
        "precision = precision_score(y_test, y_pred) * 100\n",
        "\n",
        "print(precision)\n"
      ],
      "metadata": {
        "colab": {
          "base_uri": "https://localhost:8080/"
        },
        "id": "t-HFP1cC2bCG",
        "outputId": "f9535d12-deb3-455e-ea44-bcd394892e44"
      },
      "execution_count": 33,
      "outputs": [
        {
          "output_type": "stream",
          "name": "stdout",
          "text": [
            "70.2020202020202\n"
          ]
        }
      ]
    },
    {
      "cell_type": "code",
      "source": [
        "#29:\n",
        "feature_importances = rf_model.feature_importances_\n",
        "features = columns\n",
        "most_important_feature = features[feature_importances.argmax()]\n",
        "most_important_feature\n"
      ],
      "metadata": {
        "colab": {
          "base_uri": "https://localhost:8080/",
          "height": 35
        },
        "id": "90wV3-Z22u-Y",
        "outputId": "a740c861-8911-4256-bf3d-664216e90aa3"
      },
      "execution_count": 35,
      "outputs": [
        {
          "output_type": "execute_result",
          "data": {
            "text/plain": [
              "'TONS'"
            ],
            "application/vnd.google.colaboratory.intrinsic+json": {
              "type": "string"
            }
          },
          "metadata": {},
          "execution_count": 35
        }
      ]
    }
  ]
}